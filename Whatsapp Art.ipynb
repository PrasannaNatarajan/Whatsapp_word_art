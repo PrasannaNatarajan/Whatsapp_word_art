{
 "cells": [
  {
   "cell_type": "markdown",
   "metadata": {
    "collapsed": true,
    "slideshow": {
     "slide_type": "-"
    }
   },
   "source": [
    "Whatsapp WordCloud"
   ]
  },
  {
   "cell_type": "code",
   "execution_count": 1,
   "metadata": {
    "collapsed": false
   },
   "outputs": [],
   "source": [
    "## function isDate\n",
    "\n",
    "''' a hepler function that checks whether a given line has a date or not\n",
    "    input: a line from the whatsapp conversations text file\n",
    "    output: boolean that is true if the line has a date\n",
    "'''\n",
    "def isDate(line):\n",
    "    if len(line)<8:\n",
    "        return False\n",
    "    for i in range(0,8):\n",
    "        if line[i].isdigit() == False:            \n",
    "            if line[i] != \"/\":\n",
    "                return False\n",
    "        if (i==2 and line[i]!=\"/\"):\n",
    "                return False\n",
    "    return True\n"
   ]
  },
  {
   "cell_type": "code",
   "execution_count": 3,
   "metadata": {
    "collapsed": false
   },
   "outputs": [],
   "source": [
    "### driver\n",
    "'''\n",
    "    opens the whatsapp conversations text file and writes down the names of people in the conversation \n",
    "    into a CSV. \n",
    "'''\n",
    "fw = open(\"output.csv\",\"w\")\n",
    "fw.write(\"names\\n\")\n",
    "with open(\"1.txt\") as f:\n",
    "    for line in f:\n",
    "        if \":\" in line and isDate(line):\n",
    "            first = line.index(\":\")\n",
    "            if line.count(\":\")<2:\n",
    "                ##print line\n",
    "                continue\n",
    "            words = line.split(' ')\n",
    "            words[4] = words[4].replace(\":\",\"\")\n",
    "            words[4] = words[4].replace(\".\",\"\")\n",
    "            words[4] = words[4].replace(\"1\",\"\")\n",
    "            if words[4].isalpha() == False:\n",
    "                #print words[4]+words[5]+words[6]\n",
    "                continue\n",
    "            ##print words[4]            \n",
    "            fw.write(words[4]+\"\\n\")\n",
    "            fw.flush()\n",
    "            \n",
    "fw.close()"
   ]
  },
  {
   "cell_type": "code",
   "execution_count": 4,
   "metadata": {
    "collapsed": true
   },
   "outputs": [],
   "source": [
    "### import pandas and read the csv created previously into data\n",
    "import pandas\n",
    "data = pandas.read_csv(\"output.csv\")"
   ]
  },
  {
   "cell_type": "code",
   "execution_count": null,
   "metadata": {
    "collapsed": false
   },
   "outputs": [],
   "source": [
    "### import matplotlib and wordcloud\n",
    "import matplotlib.pyplot as plt\n",
    "from wordcloud import WordCloud, STOPWORDS\n",
    "\n",
    "words = ' '.join(data['names'])\n",
    "\n",
    "wordcloud = WordCloud(\n",
    "                      font_path = 'CabinSketch-Regular.ttf',\n",
    "                      stopwords=STOPWORDS,\n",
    "                      background_color='black',\n",
    "                      width = 2000,\n",
    "                      height = 2000\n",
    "                     ).generate(words)\n",
    "\n",
    "plt.imshow(wordcloud)\n",
    "plt.axis('off')\n",
    "plt.savefig('./my_first_wordcloud_1.png', dpi=300)\n",
    "plt.show()"
   ]
  },
  {
   "cell_type": "code",
   "execution_count": null,
   "metadata": {
    "collapsed": true
   },
   "outputs": [],
   "source": [
    "### import imread for masking\n",
    "from scipy.misc import imread"
   ]
  },
  {
   "cell_type": "code",
   "execution_count": 26,
   "metadata": {
    "collapsed": false
   },
   "outputs": [],
   "source": [
    "### use twitter_mask image to mask this wordcloud (make it twitter icon shaped)\n",
    "w_mask = imread('./twitter_mask.png',flatten=True)\n",
    "wordcloud = WordCloud(\n",
    "                      font_path='CabinSketch-Regular.ttf',\n",
    "                      stopwords=STOPWORDS,\n",
    "                      background_color='white',\n",
    "                      width=1800,\n",
    "                      height=1400,\n",
    "                      mask=w_mask\n",
    "            ).generate(words)\n",
    "plt.imshow(wordcloud)\n",
    "plt.axis(\"off\")\n",
    "### save the image as my_wordcloud_4.png in the current folder",
    "plt.savefig('./my_wordcloud_4.png', dpi=300)\n",
    "plt.show()"
   ]
  },
  {
   "cell_type": "code",
   "execution_count": null,
   "metadata": {
    "collapsed": true
   },
   "outputs": [],
   "source": []
  }
 ],
 "metadata": {
  "kernelspec": {
   "display_name": "Python 2",
   "language": "python",
   "name": "python2"
  },
  "language_info": {
   "codemirror_mode": {
    "name": "ipython",
    "version": 2
   },
   "file_extension": ".py",
   "mimetype": "text/x-python",
   "name": "python",
   "nbconvert_exporter": "python",
   "pygments_lexer": "ipython2",
   "version": "2.7.13"
  }
 },
 "nbformat": 4,
 "nbformat_minor": 0
}
